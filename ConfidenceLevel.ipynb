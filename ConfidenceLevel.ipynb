{
  "nbformat": 4,
  "nbformat_minor": 0,
  "metadata": {
    "colab": {
      "provenance": [],
      "authorship_tag": "ABX9TyNT+/IQsoRFzijNv3+8o9kD",
      "include_colab_link": true
    },
    "kernelspec": {
      "name": "python3",
      "display_name": "Python 3"
    },
    "language_info": {
      "name": "python"
    }
  },
  "cells": [
    {
      "cell_type": "markdown",
      "metadata": {
        "id": "view-in-github",
        "colab_type": "text"
      },
      "source": [
        "<a href=\"https://colab.research.google.com/github/knagabharathi/Probablity/blob/main/ConfidenceLevel.ipynb\" target=\"_parent\"><img src=\"https://colab.research.google.com/assets/colab-badge.svg\" alt=\"Open In Colab\"/></a>"
      ]
    },
    {
      "cell_type": "code",
      "execution_count": 1,
      "metadata": {
        "id": "rmevQ_CnPU6l"
      },
      "outputs": [],
      "source": [
        "import numpy as np, pandas as pd, seaborn as sns\n",
        "from scipy.stats import norm"
      ]
    },
    {
      "cell_type": "code",
      "source": [
        "norm.cdf(1.2)"
      ],
      "metadata": {
        "colab": {
          "base_uri": "https://localhost:8080/"
        },
        "id": "RFWyTw65Pqlm",
        "outputId": "83a934e8-0ed5-48a1-dfd9-1760fc3cc724"
      },
      "execution_count": 5,
      "outputs": [
        {
          "output_type": "execute_result",
          "data": {
            "text/plain": [
              "0.8849303297782918"
            ]
          },
          "metadata": {},
          "execution_count": 5
        }
      ]
    },
    {
      "cell_type": "code",
      "source": [
        "import random"
      ],
      "metadata": {
        "id": "Oalog3-EQnAz"
      },
      "execution_count": 6,
      "outputs": []
    },
    {
      "cell_type": "code",
      "source": [
        "x = np.random.randint(33,38,6)"
      ],
      "metadata": {
        "id": "QwR2E9_yQt3H"
      },
      "execution_count": 9,
      "outputs": []
    },
    {
      "cell_type": "code",
      "source": [
        "np.random.choice(x,size= 10)"
      ],
      "metadata": {
        "colab": {
          "base_uri": "https://localhost:8080/"
        },
        "id": "cleShocfQ5WL",
        "outputId": "7b5c3fb7-2aa9-4184-af05-b23edd10e098"
      },
      "execution_count": 11,
      "outputs": [
        {
          "output_type": "execute_result",
          "data": {
            "text/plain": [
              "array([35, 35, 36, 34, 35, 37, 33, 33, 35, 34])"
            ]
          },
          "metadata": {},
          "execution_count": 11
        }
      ]
    },
    {
      "cell_type": "code",
      "source": [
        "np.random.choice(x,size= 10).mean()"
      ],
      "metadata": {
        "colab": {
          "base_uri": "https://localhost:8080/"
        },
        "id": "gIXA3goaRDyM",
        "outputId": "215f8d62-6d1b-46fc-8ad7-a54a70cb7174"
      },
      "execution_count": 12,
      "outputs": [
        {
          "output_type": "execute_result",
          "data": {
            "text/plain": [
              "34.8"
            ]
          },
          "metadata": {},
          "execution_count": 12
        }
      ]
    },
    {
      "cell_type": "code",
      "source": [
        "mean_samples = [np.random.choice(x,size= 10).mean() for i in range(1000)]"
      ],
      "metadata": {
        "id": "GX_-B-mvRGTX"
      },
      "execution_count": 13,
      "outputs": []
    },
    {
      "cell_type": "code",
      "source": [
        "mean_samples[:5]"
      ],
      "metadata": {
        "colab": {
          "base_uri": "https://localhost:8080/"
        },
        "id": "dbBxzp1lRNVr",
        "outputId": "da96326e-8cdd-4f9a-ca96-20726cc6fa45"
      },
      "execution_count": 15,
      "outputs": [
        {
          "output_type": "execute_result",
          "data": {
            "text/plain": [
              "[33.9, 34.2, 35.3, 35.2, 35.4]"
            ]
          },
          "metadata": {},
          "execution_count": 15
        }
      ]
    },
    {
      "cell_type": "code",
      "source": [
        "sns.histplot(mean_samples,kde= True)"
      ],
      "metadata": {
        "colab": {
          "base_uri": "https://localhost:8080/",
          "height": 451
        },
        "id": "oCpN6D69RPBl",
        "outputId": "46a9b376-810f-4afb-f5eb-9fed91d4040e"
      },
      "execution_count": 16,
      "outputs": [
        {
          "output_type": "execute_result",
          "data": {
            "text/plain": [
              "<Axes: ylabel='Count'>"
            ]
          },
          "metadata": {},
          "execution_count": 16
        },
        {
          "output_type": "display_data",
          "data": {
            "text/plain": [
              "<Figure size 640x480 with 1 Axes>"
            ],
            "image/png": "[encoded data removed]"
          },
          "metadata": {}
        }
      ]
    },
    {
      "cell_type": "code",
      "source": [
        "l = np.percentile(mean_samples, 2.5)\n",
        "u = np.percentile(mean_samples, 97.5)"
      ],
      "metadata": {
        "id": "esYziXX6RZRw"
      },
      "execution_count": 19,
      "outputs": []
    },
    {
      "cell_type": "code",
      "source": [
        "[l,u]"
      ],
      "metadata": {
        "colab": {
          "base_uri": "https://localhost:8080/"
        },
        "id": "yTYYT_HfRnSY",
        "outputId": "7e79c023-cb41-4519-ed9d-b8a0c18192ec"
      },
      "execution_count": 20,
      "outputs": [
        {
          "output_type": "execute_result",
          "data": {
            "text/plain": [
              "[33.8, 35.7]"
            ]
          },
          "metadata": {},
          "execution_count": 20
        }
      ]
    },
    {
      "cell_type": "markdown",
      "source": [
        "#Q1. Led lights"
      ],
      "metadata": {
        "id": "R2HQ8MiGSjMJ"
      }
    },
    {
      "cell_type": "markdown",
      "source": [
        "The life of LED light bulbs manufactured in a factory is normally distributed with a mean equal to 900 hours and a standard deviation of 50 hours.\n",
        "\n",
        "Find the probability that a random sample of 20 bulbs will have an average life of less than 875 hours."
      ],
      "metadata": {
        "id": "9hJKXzPCSkNH"
      }
    },
    {
      "cell_type": "code",
      "source": [
        "z = ((875-900)/(50/np.sqrt(20)))"
      ],
      "metadata": {
        "id": "1g-aZ5DzSmOV"
      },
      "execution_count": 21,
      "outputs": []
    },
    {
      "cell_type": "code",
      "source": [
        "norm.cdf(z)"
      ],
      "metadata": {
        "colab": {
          "base_uri": "https://localhost:8080/"
        },
        "id": "qdqH0UqDSwwc",
        "outputId": "f87196d0-afa7-4d0c-a773-73b30499389c"
      },
      "execution_count": 22,
      "outputs": [
        {
          "output_type": "execute_result",
          "data": {
            "text/plain": [
              "0.012673659338734126"
            ]
          },
          "metadata": {},
          "execution_count": 22
        }
      ]
    },
    {
      "cell_type": "markdown",
      "source": [
        "#Q2. Tip percentage"
      ],
      "metadata": {
        "id": "pj-VZ2KWv_i-"
      }
    },
    {
      "cell_type": "markdown",
      "source": [
        "The tip percentage for a delivery person has a mean value of 28% and a standard deviation of 7%.\n",
        "\n",
        "What is the probability that the sample mean tip percentage for a random sample of 50 bills is between 26% and 31%?"
      ],
      "metadata": {
        "id": "sUhMZ7FvwCID"
      }
    },
    {
      "cell_type": "code",
      "source": [
        "a = norm.cdf((26-28)/(7/np.sqrt(50)))\n",
        "b = norm.cdf((31-28)/(7/np.sqrt(50)))\n",
        "\n",
        "b-a"
      ],
      "metadata": {
        "colab": {
          "base_uri": "https://localhost:8080/"
        },
        "id": "i8YJJyjXwExZ",
        "outputId": "3283d8c8-3851-40ca-b6a4-9edc42bf2e6a"
      },
      "execution_count": 2,
      "outputs": [
        {
          "output_type": "execute_result",
          "data": {
            "text/plain": [
              "0.9771032071594303"
            ]
          },
          "metadata": {},
          "execution_count": 2
        }
      ]
    },
    {
      "cell_type": "code",
      "source": [
        "norm.cdf(3.03) - norm.cdf(-2.02)"
      ],
      "metadata": {
        "colab": {
          "base_uri": "https://localhost:8080/"
        },
        "id": "AKUY2bCIw64i",
        "outputId": "478f8d9a-01ac-45a7-c7ce-cf662707c467"
      },
      "execution_count": 4,
      "outputs": [
        {
          "output_type": "execute_result",
          "data": {
            "text/plain": [
              "0.9770855375387609"
            ]
          },
          "metadata": {},
          "execution_count": 4
        }
      ]
    },
    {
      "cell_type": "markdown",
      "source": [
        "#Q3. Find the mean length CI"
      ],
      "metadata": {
        "id": "FLQl4db5xE5g"
      }
    },
    {
      "cell_type": "markdown",
      "source": [
        "You are working for the Department of Endangered Species. Along with your team, you have bred a certain species of endangered fish.\n",
        "\n",
        "On taking a sample of 100 fishes, the calculated average length of this species came out to be 24 and the standard deviation came out to be 8.\n",
        "Your task is to estimate, with 95 percent confidence, the mean length confidence interval of the fishes in the pond.\n",
        "\n",
        "Note: z-multiplier for 95% is 1.96."
      ],
      "metadata": {
        "id": "djpeddBRyR6J"
      }
    },
    {
      "cell_type": "markdown",
      "source": [
        "ciu =24 + 1.96*(8/np.sqrt(100))\n",
        "cil =24 - 1.96*(8/np.sqrt(100))\n",
        "\n",
        "[cil, ciu]"
      ],
      "metadata": {
        "id": "Ban2ERpkyUkY"
      }
    },
    {
      "cell_type": "markdown",
      "source": [
        "#Q4. Standard Error of Sampling Distribution"
      ],
      "metadata": {
        "id": "yqPHOreFzAt3"
      }
    },
    {
      "cell_type": "markdown",
      "source": [
        "Samples of size 100 are selected from a population with a mean of 37 and a standard deviation of 12.\n",
        "\n",
        "The standard error of the sampling distribution of sample means is :"
      ],
      "metadata": {
        "id": "uBvCotSLzC-d"
      }
    },
    {
      "cell_type": "code",
      "source": [
        "12/np.sqrt(100)"
      ],
      "metadata": {
        "colab": {
          "base_uri": "https://localhost:8080/"
        },
        "id": "yxTx_iZJzEkA",
        "outputId": "1f90b796-7a1a-4683-ea71-5f17f5f39766"
      },
      "execution_count": 7,
      "outputs": [
        {
          "output_type": "execute_result",
          "data": {
            "text/plain": [
              "1.2"
            ]
          },
          "metadata": {},
          "execution_count": 7
        }
      ]
    },
    {
      "cell_type": "markdown",
      "source": [
        "#Q5. Confidence interval for purchase"
      ],
      "metadata": {
        "id": "hX5CpgPA0e4g"
      }
    },
    {
      "cell_type": "markdown",
      "source": [
        "A company wants to estimate the average purchase amount made by customers on their e-commerce platform. They collect a random sample of 100 transactions and find that the average purchase amount is \\75withastandarddeviationof10. Construct a 90% confidence interval for the true average purchase amount. Since the number of samples is large, use the sample standard deviation as an approximation of population standard deviation."
      ],
      "metadata": {
        "id": "8zMFUZJX0frD"
      }
    },
    {
      "cell_type": "code",
      "source": [
        "a = norm.ppf(0.05)\n",
        "b = norm.ppf(0.95)\n",
        "\n",
        "[a,b]"
      ],
      "metadata": {
        "colab": {
          "base_uri": "https://localhost:8080/"
        },
        "id": "2LR3Lne30hId",
        "outputId": "1165f5c1-d9cd-463f-dd22-19083289405c"
      },
      "execution_count": 9,
      "outputs": [
        {
          "output_type": "execute_result",
          "data": {
            "text/plain": [
              "[-1.6448536269514729, 1.6448536269514722]"
            ]
          },
          "metadata": {},
          "execution_count": 9
        }
      ]
    },
    {
      "cell_type": "code",
      "source": [
        "75-1.64"
      ],
      "metadata": {
        "colab": {
          "base_uri": "https://localhost:8080/"
        },
        "id": "C4R0Asyj08-F",
        "outputId": "f982319a-3190-4dcb-fd0d-391ef805380a"
      },
      "execution_count": 10,
      "outputs": [
        {
          "output_type": "execute_result",
          "data": {
            "text/plain": [
              "73.36"
            ]
          },
          "metadata": {},
          "execution_count": 10
        }
      ]
    },
    {
      "cell_type": "code",
      "source": [
        "75+1.64"
      ],
      "metadata": {
        "colab": {
          "base_uri": "https://localhost:8080/"
        },
        "id": "4yM6a5Oy1AbY",
        "outputId": "62246362-7f32-4572-8f5f-0ba854d0db5f"
      },
      "execution_count": 11,
      "outputs": [
        {
          "output_type": "execute_result",
          "data": {
            "text/plain": [
              "76.64"
            ]
          },
          "metadata": {},
          "execution_count": 11
        }
      ]
    },
    {
      "cell_type": "markdown",
      "source": [
        "#Q6. Confidence interval for height"
      ],
      "metadata": {
        "id": "jJTuNbZ_1Kxg"
      }
    },
    {
      "cell_type": "markdown",
      "source": [
        "The mean height of a sample of 100 adults was found to be 165 cm, with a standard deviation of 8 cm. Construct a 90% confidence interval for the true mean height of the adult population."
      ],
      "metadata": {
        "id": "Owv7TMDw1LmZ"
      }
    },
    {
      "cell_type": "code",
      "source": [
        "a = 165 - 1.64*(0.8)\n",
        "b = 165 + 1.64*(0.8)"
      ],
      "metadata": {
        "id": "mH74Wyjw1Np3"
      },
      "execution_count": 13,
      "outputs": []
    },
    {
      "cell_type": "code",
      "source": [
        "[a,b]"
      ],
      "metadata": {
        "colab": {
          "base_uri": "https://localhost:8080/"
        },
        "id": "uZuqNefe19WX",
        "outputId": "d324ac85-b551-467a-ae39-501d04c2f21b"
      },
      "execution_count": 14,
      "outputs": [
        {
          "output_type": "execute_result",
          "data": {
            "text/plain": [
              "[163.688, 166.312]"
            ]
          },
          "metadata": {},
          "execution_count": 14
        }
      ]
    },
    {
      "cell_type": "code",
      "source": [],
      "metadata": {
        "id": "IiogJJik3cQI"
      },
      "execution_count": null,
      "outputs": []
    }
  ]
}